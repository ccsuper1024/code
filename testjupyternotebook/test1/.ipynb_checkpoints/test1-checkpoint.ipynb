{
 "cells": [
  {
   "cell_type": "code",
   "execution_count": null,
   "id": "7942e467",
   "metadata": {},
   "outputs": [],
   "source": [
    "l = [1,2,3,4]\n",
    "for item in l:\n",
    "    print(item)\n",
    "\n",
    "for:{\n",
    "    item = 1\n",
    "    print(\"item = {}\".format(itme))\n",
    "    item += 1                        #python没有自增运算符\n",
    "    if item == 20:\n",
    "        break\n",
    "}"
   ]
  }
 ],
 "metadata": {
  "kernelspec": {
   "display_name": "Python 3 (ipykernel)",
   "language": "python",
   "name": "python3"
  },
  "language_info": {
   "codemirror_mode": {
    "name": "ipython",
    "version": 3
   },
   "file_extension": ".py",
   "mimetype": "text/x-python",
   "name": "python",
   "nbconvert_exporter": "python",
   "pygments_lexer": "ipython3",
   "version": "3.12.2"
  }
 },
 "nbformat": 4,
 "nbformat_minor": 5
}
