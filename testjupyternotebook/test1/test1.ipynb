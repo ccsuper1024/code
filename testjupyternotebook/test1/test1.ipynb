{
 "cells": [
  {
   "cell_type": "code",
   "execution_count": null,
   "id": "7942e467",
   "metadata": {},
   "outputs": [],
   "source": [
    "l = [1,2,3,4]\n",
    "for item in l:\n",
    "    print(item)\n",
    "\n",
    "for:{\n",
    "    item = 1\n",
    "    print(\"item = {}\".format(itme))\n",
    "    item += 1                        #python没有自增运算符\n",
    "    if item == 20:\n",
    "        break\n",
    "}"
   ]
  },
  {
   "cell_type": "code",
   "execution_count": 6,
   "id": "86cb1454",
   "metadata": {},
   "outputs": [
    {
     "name": "stdout",
     "output_type": "stream",
     "text": [
      "name\n",
      "dob\n",
      "gender\n",
      "\n",
      "\n",
      "jason\n",
      "2000-01-01\n",
      "male\n",
      "\n",
      "\n",
      "key:name, value:jason\n",
      "key:dob, value:2000-01-01\n",
      "key:gender, value:male\n",
      "\n",
      "\n"
     ]
    }
   ],
   "source": [
    "d = {\"name\":\"jason\", \"dob\":\"2000-01-01\", \"gender\":\"male\"}\n",
    "for k in d:  #遍历字典的键\n",
    "    print(k)\n",
    "print(\"\\n\")\n",
    "for v in d.values():\n",
    "    print(v)\n",
    "print(\"\\n\")\n",
    "for k, v in d.items():\n",
    "    print(\"key:{}, value:{}\".format(k, v))\n",
    "print(\"\\n\")"
   ]
  },
  {
   "cell_type": "code",
   "execution_count": 7,
   "id": "ab6780e2",
   "metadata": {},
   "outputs": [
    {
     "name": "stdout",
     "output_type": "stream",
     "text": [
      "Index0:apple\n",
      "Index1:banana\n",
      "Index2:cherry\n"
     ]
    }
   ],
   "source": [
    "strset = {\"apple\", \"banana\", \"cherry\"}\n",
    "\n",
    "for index, element in enumerate(sorted(strset)):\n",
    "    print(f\"Index{index}:{element}\")"
   ]
  },
  {
   "cell_type": "code",
   "execution_count": 11,
   "id": "a1df4a81",
   "metadata": {},
   "outputs": [
    {
     "name": "stdout",
     "output_type": "stream",
     "text": [
      "['Today', 'sunday']\n"
     ]
    }
   ],
   "source": [
    "text = \"Today , is , sunday\"\n",
    "text_list = [s.strip() for s in text.split(\",\") if len(s.strip()) > 3]\n",
    "print(text_list)"
   ]
  },
  {
   "cell_type": "code",
   "execution_count": 12,
   "id": "d83896ea",
   "metadata": {},
   "outputs": [
    {
     "name": "stdout",
     "output_type": "stream",
     "text": [
      "[{'name': 'jason', 'dob': '2000-01-01', 'gender': 'male'}, {'name': 'mike', 'dob': '1999-01-01', 'gender': 'male'}, {'name': 'nancy', 'dob': '2001-02-01', 'gender': 'female'}]\n"
     ]
    }
   ],
   "source": [
    "\"\"\"给定下⾯两个列表attributes和values，要求针 对values中每⼀组⼦列表value，输出其和attributes中的键对应后的字 典，\n",
    "最后返回字典组成的列表。 \n",
    "\"\"\"\n",
    "attributes = ['name', 'dob', 'gender'] \n",
    "values = [['jason', '2000-01-01', 'male'],  \n",
    "          ['mike', '1999-01-01', 'male'],\n",
    "          ['nancy', '2001-02-01', 'female'] ] \n",
    "\n",
    "output = []\n",
    "for value in values:\n",
    "    item = {}\n",
    "    for i in range(len(attributes)):\n",
    "        item[attributes[i]] = value[i]\n",
    "    output.append(item)\n",
    "print(output)"
   ]
  },
  {
   "cell_type": "code",
   "execution_count": 14,
   "id": "f1526519",
   "metadata": {},
   "outputs": [
    {
     "name": "stdout",
     "output_type": "stream",
     "text": [
      "71\n"
     ]
    }
   ],
   "source": [
    "def find_largest_element(l):\n",
    "    if not isinstance(l, list):\n",
    "        print('input is not type of list')\n",
    "        return\n",
    "    if len(l) == 0:\n",
    "        print(\"empty input\")\n",
    "        return \n",
    "    largetst_element = l[0]\n",
    "    for item in l:\n",
    "        if largetst_element < item:\n",
    "            largetst_element = item\n",
    "    return largetst_element\n",
    "listvalue = [8,-1,2,6,9,71,30,0]\n",
    "print(find_largest_element(listvalue))"
   ]
  },
  {
   "cell_type": "code",
   "execution_count": 16,
   "id": "1f9b08de",
   "metadata": {},
   "outputs": [
    {
     "name": "stdout",
     "output_type": "stream",
     "text": [
      "[1, 2, 3, 5, 6, 9, 'stt']\n",
      "\n",
      "\n",
      "{'a': '1', 'b': 2}\n"
     ]
    }
   ],
   "source": [
    "l = [1,2,3,5,6,9,\"stt\"]\n",
    "d = {\"a\":\"1\", \"b\":2}\n",
    "print(l)\n",
    "print(\"\\n\")\n",
    "print(d)"
   ]
  },
  {
   "cell_type": "code",
   "execution_count": 19,
   "id": "52e27a1a",
   "metadata": {},
   "outputs": [
    {
     "name": "stdout",
     "output_type": "stream",
     "text": [
      "value 50 is valid\n"
     ]
    }
   ],
   "source": [
    "MAX_VALUE = 100\n",
    "MIN_VALUE = 1\n",
    "def validation_check(value):\n",
    "    if value < MIN_VALUE or value > MAX_VALUE:\n",
    "        raise Exception(\"validation check fails\")\n",
    "    else :\n",
    "        print(\"value {} is valid\".format(value))\n",
    "validation_check(50)"
   ]
  },
  {
   "cell_type": "code",
   "execution_count": 22,
   "id": "c0d15839",
   "metadata": {},
   "outputs": [
    {
     "name": "stdout",
     "output_type": "stream",
     "text": [
      "MIN_VALUE is -1\n"
     ]
    }
   ],
   "source": [
    "#在函数块作用域中使用和修改全局变量要先把全局变量在函数块作用域中声明\n",
    "def print_min_value(value):\n",
    "    global MIN_VALUE\n",
    "    if(value < MIN_VALUE):\n",
    "        MIN_VALUE = value\n",
    "\n",
    "    print(\"MIN_VALUE is {}\".format(MIN_VALUE))\n",
    "print_min_value(-1)"
   ]
  },
  {
   "cell_type": "code",
   "execution_count": 24,
   "id": "fe1a5258",
   "metadata": {},
   "outputs": [
    {
     "name": "stdout",
     "output_type": "stream",
     "text": [
      "inner: nonlocal\n",
      "outer: nonlocal\n"
     ]
    }
   ],
   "source": [
    "#在局部函数中修改外部函数的变量要先把外部函数中的变量在局部/内部函数中声明\n",
    "def outer():\n",
    "    x = \"local\"\n",
    "    def inner():\n",
    "        nonlocal x #nonlocal关键字表示这里的x就是外部函数outer定义的变量x\n",
    "        x = \"nonlocal\"\n",
    "        print(\"inner:\", x)\n",
    "    inner()\n",
    "    print(\"outer:\",x)\n",
    "outer()"
   ]
  },
  {
   "cell_type": "code",
   "execution_count": 28,
   "id": "f25b2809",
   "metadata": {},
   "outputs": [
    {
     "name": "stdout",
     "output_type": "stream",
     "text": [
      "4\n",
      "8\n"
     ]
    }
   ],
   "source": [
    "def nth_power(exponent):\n",
    "    def exponent_of(base):\n",
    "        return base ** exponent\n",
    "    return exponent_of    #返回值是个exponent_of函数\n",
    "square = nth_power(2)     #计算一个数的平方\n",
    "cube   = nth_power(3)     #计算一个数的立方\n",
    "print(square(2))\n",
    "print(cube(2))"
   ]
  },
  {
   "cell_type": "code",
   "execution_count": 29,
   "id": "2ecc88b7",
   "metadata": {},
   "outputs": [
    {
     "name": "stdout",
     "output_type": "stream",
     "text": [
      "{'ben': 30, 'mikd': 10, 'lucy': 2}\n"
     ]
    }
   ],
   "source": [
    "d = {\"mikd\":10, \"lucy\":2, \"ben\":30}\n",
    "sorted_d = dict(sorted(d.items(), key=lambda item:item[1], reverse=True))\n",
    "print(sorted_d)"
   ]
  }
 ],
 "metadata": {
  "kernelspec": {
   "display_name": "Python 3 (ipykernel)",
   "language": "python",
   "name": "python3"
  },
  "language_info": {
   "codemirror_mode": {
    "name": "ipython",
    "version": 3
   },
   "file_extension": ".py",
   "mimetype": "text/x-python",
   "name": "python",
   "nbconvert_exporter": "python",
   "pygments_lexer": "ipython3",
   "version": "3.12.2"
  }
 },
 "nbformat": 4,
 "nbformat_minor": 5
}
